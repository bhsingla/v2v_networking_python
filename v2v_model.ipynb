{
 "cells": [
  {
   "cell_type": "code",
   "execution_count": 2,
   "id": "d8fdd9a2",
   "metadata": {},
   "outputs": [],
   "source": [
    "# echo-server.py\n",
    "import selectors\n",
    "import socket\n",
    "from _thread import *\n",
    "import threading\n",
    "\n",
    "LAN_IP = \"192.168.1.255\"  # Standard loopback interface address (localhost)\n",
    "PORT = 9999  # Port to listen on (non-privileged ports are > 1023)"
   ]
  },
  {
   "cell_type": "code",
   "execution_count": 3,
   "id": "dc37962f",
   "metadata": {},
   "outputs": [],
   "source": [
    "def parse_data(data):\n",
    "    msg_type = None\n",
    "    event = None\n",
    "    sender_id = None\n",
    "    relay = 0\n",
    "    \n",
    "    return msg_type\n",
    "\n",
    "\n",
    "def thread(Client, Pserver):\n",
    "    while True:\n",
    "        # data received from client\n",
    "        data = Pserver.recv(1024)\n",
    "        if data:\n",
    "            Client.send(data)\n",
    "        elif not data:\n",
    "            print_lock.release()\n",
    "            break\n",
    "\n",
    "#for tcp connections... unused\n",
    "class Client:\n",
    "    def __init__(self, connfd):\n",
    "        self.connfd = connfd\n",
    "    \n",
    "    def send(self, data):\n",
    "        try:\n",
    "            self.connfd.send(data)\n",
    "        except Exception as e:\n",
    "            print(e)\n",
    "\n",
    "\n",
    "class Vehicle:\n",
    "    def __init__(self, LAN_IP=\"127.0.0.1\", PORT=9999):\n",
    "        self.location = 0 # 1 dimensional x coordinate\n",
    "        self.s = socket.socket(socket.AF_INET, socket.SOCK_STREAM)\n",
    "        self.msg = \"\"\n",
    "        self.buffer = \"\"\n",
    "        self.prox_table = []\n",
    "        self.velocity = 1 # m/s\n",
    "        self.LAN_IP = LAN_IP\n",
    "        self.PORT = PORT\n",
    "        # --------- insert try statement for socket w broadcast -------- #\n",
    "    \n",
    "    def send_event_msg(self, prox_table):\n",
    "        tmp_table = self.proximity_table\n",
    "        try:\n",
    "            self.s.sendall(request)\n",
    "            print(\"request sent\")\n",
    "        except Exception as e:\n",
    "            print(e)\n",
    "        \n",
    "        # read acks as they come in for 2s and then \n",
    "        \n",
    "        # resend broadcast notification w updated \n",
    "        \n",
    "        return 1\n",
    "    \n",
    "    def update_location(self, time):\n",
    "        self.location = self.location + self.velocity * time\n",
    "        return self.location\n",
    "    \n",
    "    \n",
    "    def recieve(self):\n",
    "        try:\n",
    "            self.recieve_data = self.s.recv(4096)\n",
    "            if self.recieve_data:\n",
    "                print(\"recieved reply\")\n",
    "                return self.recieve_data\n",
    "            elif not self.recieve_data:\n",
    "                return None\n",
    "        except Exception as e:\n",
    "            print(e)\n",
    "            \n",
    "        def send_msg(self, msg, LAN_IP, PORT):\n",
    "            sock.sendto(MESSAGE, (LAN_IP, PORT))"
   ]
  },
  {
   "cell_type": "code",
   "execution_count": 4,
   "id": "1088ddd0",
   "metadata": {},
   "outputs": [],
   "source": [
    "MESSAGE = b\"Hello, World!\""
   ]
  },
  {
   "cell_type": "code",
   "execution_count": 5,
   "id": "a44a6b19",
   "metadata": {},
   "outputs": [],
   "source": [
    "sock = socket.socket(socket.AF_INET, socket.SOCK_DGRAM) # UDP\n",
    "sock.setsockopt(socket.SOL_SOCKET, socket.SO_BROADCAST, 1)"
   ]
  },
  {
   "cell_type": "code",
   "execution_count": 14,
   "id": "e7625ecb",
   "metadata": {},
   "outputs": [
    {
     "data": {
      "text/plain": [
       "13"
      ]
     },
     "execution_count": 14,
     "metadata": {},
     "output_type": "execute_result"
    }
   ],
   "source": [
    "sock.sendto(MESSAGE, (LAN_IP, PORT))"
   ]
  },
  {
   "cell_type": "code",
   "execution_count": null,
   "id": "22efe513",
   "metadata": {},
   "outputs": [],
   "source": []
  },
  {
   "cell_type": "code",
   "execution_count": 4,
   "id": "a9ef2fff",
   "metadata": {},
   "outputs": [],
   "source": [
    "interfaces = socket.getaddrinfo(host=socket.gethostname(), port=None, family=socket.AF_INET)"
   ]
  },
  {
   "cell_type": "code",
   "execution_count": 5,
   "id": "270f0342",
   "metadata": {},
   "outputs": [
    {
     "data": {
      "text/plain": [
       "[(1, 'lo'), (2, 'enp0s3'), (3, 'enp0s8')]"
      ]
     },
     "execution_count": 5,
     "metadata": {},
     "output_type": "execute_result"
    }
   ],
   "source": [
    "socket.if_nameindex()"
   ]
  },
  {
   "cell_type": "code",
   "execution_count": 6,
   "id": "1a5453a3",
   "metadata": {},
   "outputs": [],
   "source": [
    "sock.bind((LAN_IP, PORT))"
   ]
  },
  {
   "cell_type": "code",
   "execution_count": 7,
   "id": "55d98325",
   "metadata": {},
   "outputs": [
    {
     "name": "stdout",
     "output_type": "stream",
     "text": [
      "recieved msg b'Hello, World!'\n",
      "recieved msg b'Hello, World!'\n",
      "recieved msg b'Hello, World!'\n"
     ]
    }
   ],
   "source": [
    "while True:\n",
    "    data, addr = sock.recvfrom(1024)\n",
    "    print(\"recieved msg %s\" %data)"
   ]
  },
  {
   "cell_type": "code",
   "execution_count": 3,
   "id": "cc4d8f73",
   "metadata": {},
   "outputs": [],
   "source": [
    "data = 't'"
   ]
  },
  {
   "cell_type": "code",
   "execution_count": 4,
   "id": "fed81445",
   "metadata": {},
   "outputs": [
    {
     "name": "stdout",
     "output_type": "stream",
     "text": [
      "data\n"
     ]
    }
   ],
   "source": [
    "if data:\n",
    "    print(\"data\")"
   ]
  },
  {
   "cell_type": "code",
   "execution_count": null,
   "id": "9153cf39",
   "metadata": {},
   "outputs": [],
   "source": []
  }
 ],
 "metadata": {
  "kernelspec": {
   "display_name": "Python 3.10.4 64-bit",
   "language": "python",
   "name": "python3"
  },
  "language_info": {
   "codemirror_mode": {
    "name": "ipython",
    "version": 3
   },
   "file_extension": ".py",
   "mimetype": "text/x-python",
   "name": "python",
   "nbconvert_exporter": "python",
   "pygments_lexer": "ipython3",
   "version": "3.10.6"
  },
  "vscode": {
   "interpreter": {
    "hash": "916dbcbb3f70747c44a77c7bcd40155683ae19c65e1c03b4aa3499c5328201f1"
   }
  }
 },
 "nbformat": 4,
 "nbformat_minor": 5
}
