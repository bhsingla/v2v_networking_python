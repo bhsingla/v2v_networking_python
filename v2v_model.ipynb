{
 "cells": [
  {
   "cell_type": "code",
   "execution_count": 1,
   "id": "d8fdd9a2",
   "metadata": {},
   "outputs": [],
   "source": [
    "# echo-server.py\n",
    "import selectors\n",
    "import socket\n",
    "from _thread import *\n",
    "import threading\n",
    "import time\n",
    "from random import randint\n",
    "import json \n",
    "import uuid\n",
    "\n",
    "LAN_IP = \"192.168.1.255\"  # Standard loopback interface address (localhost)\n",
    "PORT = 9999  # Port to listen on (non-privileged ports are > 1023)\n",
    "TIMEOUT = 20000 #ms"
   ]
  },
  {
   "cell_type": "code",
   "execution_count": 2,
   "id": "dc37962f",
   "metadata": {},
   "outputs": [],
   "source": [
    "def parse_data(data):\n",
    "    msg_type = None\n",
    "    event = None\n",
    "    sender_id = None\n",
    "    relay = 0\n",
    "    return msg_type\n",
    "\n",
    "\n",
    "def thread(Client, Pserver):\n",
    "    while True:\n",
    "        # data received from client\n",
    "        data = Pserver.recv(1024)\n",
    "        if data:\n",
    "            Client.send(data)\n",
    "        elif not data:\n",
    "            print_lock.release()\n",
    "            break\n",
    "\n",
    "\n",
    "class Vehicle:\n",
    "    def __init__(self, LAN_IP=\"127.0.0.1\", PORT=9999):\n",
    "        self.location = 0 # 1 dimensional x coordinate\n",
    "        self.last_update = time.time()\n",
    "        self.msg = \"\"\n",
    "        self.buffer = \"\"\n",
    "        self.proximity_table = []\n",
    "        self.velocity = 1 # m/s\n",
    "        self.LAN_IP = LAN_IP\n",
    "        self.PORT = PORT\n",
    "        self.id = str(uuid.uuid1())\n",
    "        #self.broadcast = \n",
    "        try:\n",
    "            self.rx = socket.socket(socket.AF_INET, socket.SOCK_DGRAM)\n",
    "            self.tx = socket.socket(socket.AF_INET, socket.SOCK_DGRAM)\n",
    "            self.tx.setsockopt(socket.SOL_SOCKET, socket.SO_BROADCAST, 1) #set broadcast\n",
    "            self.rx.bind((LAN_IP, PORT))\n",
    "            self.rx.settimeout(1) #set timeout on socket to 1s. Val to be lowered for better latency\n",
    "        except Exception as e:\n",
    "            print(e) \n",
    "    \n",
    "\n",
    "        \n",
    "    def update_location(self):\n",
    "        current_time = time.time()\n",
    "        self.location = self.location + self.velocity * (current_time - self.last_update)\n",
    "        self.last_update = current_time\n",
    "        return self.location\n",
    "\n",
    "\n",
    "    def broadcast_location(self):\n",
    "        try:\n",
    "            self.update_location()\n",
    "            broadcast_loc_msg = {\"msg_type\": \"location_update\", \"time\": time.time(), \"vehicle.id\": self.id, \n",
    "            \"location\": str(self.location)}\n",
    "            self.tx.sendto(json.dumps(broadcast_loc_msg).encode(), (LAN_IP, PORT))\n",
    "        except Exception as e:\n",
    "            print(e) \n",
    "        return \"location sent\"\n",
    "        \n",
    "\n",
    "    def send_event_msg(self, msg):\n",
    "        try:\n",
    "            self.tx.sendto(msg, (LAN_IP, PORT))\n",
    "            print(\"request sent\")\n",
    "        except Exception as e:\n",
    "            print(e)\n",
    "        \n",
    "        # read acks as they come in for 2s and then \n",
    "        # resend broadcast notification w updated \n",
    "        \n",
    "        return \"sent event msg\"\n",
    "    \n",
    "    \n",
    "    def recieve(self):\n",
    "        try:\n",
    "            self.recieve_data = self.rx.recv(4096)\n",
    "            if self.recieve_data:\n",
    "                print(\"recieved reply\")\n",
    "                return self.recieve_data\n",
    "            elif not self.recieve_data:\n",
    "                return None\n",
    "        except Exception as e:\n",
    "            print(\"exception occurred \\n\")\n",
    "            print(e)\n",
    "            return ''\n",
    "\n",
    "    #function: update proximity table\n",
    "\n",
    "\n",
    "def emergency_event(vehicle):\n",
    "    ack_table = vehicle.proximity_table.copy()\n",
    "    time = time.time()\n",
    "    while ack_table:\n",
    "        emergency_msg = {\"msg_type\": \"crash\", \"time\": time, \"vehicle.id\": vehicle.id, \n",
    "            \"proximity_table\": ack_table}\n",
    "        vehicle.send_event_msg(json.dumps(emergency_event).encode())\n",
    "\n",
    "        data = vehicle.recieve()\n",
    "        \n",
    "        if \"ack\" in data:\n",
    "            print(\"recieved data in event fxn\")\n",
    "            #parse for vehicleID and remove from table \n",
    "            #ack_table.remove(\"vehicle\")\n",
    "        if time.time() - time > TIMEOUT:\n",
    "            return \"Failed\"\n",
    "    return \"recieved acks for all vehicles\"\n",
    "    "
   ]
  },
  {
   "cell_type": "code",
   "execution_count": 3,
   "id": "c0eab66f",
   "metadata": {},
   "outputs": [],
   "source": [
    "vehicle = Vehicle(LAN_IP=LAN_IP)"
   ]
  },
  {
   "cell_type": "code",
   "execution_count": 8,
   "id": "6aa36a27",
   "metadata": {},
   "outputs": [
    {
     "data": {
      "text/plain": [
       "'location sent'"
      ]
     },
     "execution_count": 8,
     "metadata": {},
     "output_type": "execute_result"
    }
   ],
   "source": [
    "vehicle.broadcast_location()"
   ]
  },
  {
   "cell_type": "code",
   "execution_count": 11,
   "id": "072e1b7a",
   "metadata": {},
   "outputs": [
    {
     "name": "stdout",
     "output_type": "stream",
     "text": [
      "exception occurred \n",
      "\n",
      "timed out\n"
     ]
    },
    {
     "data": {
      "text/plain": [
       "''"
      ]
     },
     "execution_count": 11,
     "metadata": {},
     "output_type": "execute_result"
    }
   ],
   "source": [
    "vehicle.recieve()"
   ]
  },
  {
   "cell_type": "code",
   "execution_count": 4,
   "id": "9a9e0c8b",
   "metadata": {},
   "outputs": [
    {
     "name": "stdout",
     "output_type": "stream",
     "text": [
      "recieved reply\n",
      "data recieved b'{\"msg_type\": \"location_update\", \"time\": 1669965058.8440595, \"vehicle.id\": \"3a804444-7210-11ed-9554-851a8a9c2aa4\", \"location\": \"104.50380039215088\"}'\n",
      "recieved reply\n",
      "data recieved b'{\"msg_type\": \"location_update\", \"time\": 1669965059.8617923, \"vehicle.id\": \"3a804444-7210-11ed-9554-851a8a9c2aa4\", \"location\": \"105.52152252197266\"}'\n",
      "recieved reply\n",
      "data recieved b'{\"msg_type\": \"location_update\", \"time\": 1669965060.865531, \"vehicle.id\": \"3a804444-7210-11ed-9554-851a8a9c2aa4\", \"location\": \"106.52525925636292\"}'\n",
      "recieved reply\n",
      "data recieved b'{\"msg_type\": \"location_update\", \"time\": 1669965061.8676286, \"vehicle.id\": \"3a804444-7210-11ed-9554-851a8a9c2aa4\", \"location\": \"107.52735614776611\"}'\n",
      "recieved reply\n",
      "data recieved b'{\"msg_type\": \"location_update\", \"time\": 1669965061.9908803, \"vehicle.id\": \"2a7be738-7210-11ed-99cb-21b625848828\", \"location\": \"134.75895643234253\"}'\n",
      "recieved reply\n",
      "data recieved b'{\"msg_type\": \"location_update\", \"time\": 1669965062.869564, \"vehicle.id\": \"3a804444-7210-11ed-9554-851a8a9c2aa4\", \"location\": \"108.52929353713989\"}'\n",
      "recieved reply\n",
      "data recieved b'{\"msg_type\": \"location_update\", \"time\": 1669965063.012301, \"vehicle.id\": \"2a7be738-7210-11ed-99cb-21b625848828\", \"location\": \"135.78035259246826\"}'\n",
      "recieved reply\n",
      "data recieved b'{\"msg_type\": \"location_update\", \"time\": 1669965063.8773537, \"vehicle.id\": \"3a804444-7210-11ed-9554-851a8a9c2aa4\", \"location\": \"109.53709030151367\"}'\n",
      "recieved reply\n",
      "data recieved b'{\"msg_type\": \"location_update\", \"time\": 1669965064.0220413, \"vehicle.id\": \"2a7be738-7210-11ed-99cb-21b625848828\", \"location\": \"136.79012370109558\"}'\n",
      "recieved reply\n",
      "data recieved b'{\"msg_type\": \"location_update\", \"time\": 1669965064.8816783, \"vehicle.id\": \"3a804444-7210-11ed-9554-851a8a9c2aa4\", \"location\": \"110.54139709472656\"}'\n",
      "recieved reply\n",
      "data recieved b'{\"msg_type\": \"location_update\", \"time\": 1669965065.029004, \"vehicle.id\": \"2a7be738-7210-11ed-99cb-21b625848828\", \"location\": \"137.7970404624939\"}'\n",
      "recieved reply\n",
      "data recieved b'{\"msg_type\": \"location_update\", \"time\": 1669965065.884801, \"vehicle.id\": \"3a804444-7210-11ed-9554-851a8a9c2aa4\", \"location\": \"111.54443860054016\"}'\n",
      "recieved reply\n",
      "data recieved b'{\"msg_type\": \"location_update\", \"time\": 1669965066.063269, \"vehicle.id\": \"2a7be738-7210-11ed-99cb-21b625848828\", \"location\": \"138.8313524723053\"}'\n",
      "recieved reply\n",
      "data recieved b'{\"msg_type\": \"location_update\", \"time\": 1669965066.8900278, \"vehicle.id\": \"3a804444-7210-11ed-9554-851a8a9c2aa4\", \"location\": \"112.5497419834137\"}'\n",
      "recieved reply\n",
      "data recieved b'{\"msg_type\": \"location_update\", \"time\": 1669965067.081767, \"vehicle.id\": \"2a7be738-7210-11ed-99cb-21b625848828\", \"location\": \"139.8498387336731\"}'\n",
      "recieved reply\n",
      "data recieved b'{\"msg_type\": \"location_update\", \"time\": 1669965067.9297955, \"vehicle.id\": \"3a804444-7210-11ed-9554-851a8a9c2aa4\", \"location\": \"113.58950662612915\"}'\n",
      "recieved reply\n",
      "data recieved b'{\"msg_type\": \"location_update\", \"time\": 1669965068.1315157, \"vehicle.id\": \"2a7be738-7210-11ed-99cb-21b625848828\", \"location\": \"140.89958238601685\"}'\n",
      "recieved reply\n",
      "data recieved b'{\"msg_type\": \"location_update\", \"time\": 1669965068.9415214, \"vehicle.id\": \"3a804444-7210-11ed-9554-851a8a9c2aa4\", \"location\": \"114.59832715988159\"}'\n",
      "recieved reply\n",
      "data recieved b'{\"msg_type\": \"location_update\", \"time\": 1669965069.150518, \"vehicle.id\": \"2a7be738-7210-11ed-99cb-21b625848828\", \"location\": \"141.91860461235046\"}'\n",
      "recieved reply\n",
      "data recieved b'{\"msg_type\": \"location_update\", \"time\": 1669965069.9458568, \"vehicle.id\": \"3a804444-7210-11ed-9554-851a8a9c2aa4\", \"location\": \"115.60558986663818\"}'\n",
      "recieved reply\n",
      "data recieved b'{\"msg_type\": \"location_update\", \"time\": 1669965070.1586833, \"vehicle.id\": \"2a7be738-7210-11ed-99cb-21b625848828\", \"location\": \"142.92674779891968\"}'\n",
      "recieved reply\n",
      "data recieved b'{\"msg_type\": \"location_update\", \"time\": 1669965070.9525077, \"vehicle.id\": \"3a804444-7210-11ed-9554-851a8a9c2aa4\", \"location\": \"116.61223602294922\"}'\n",
      "recieved reply\n",
      "data recieved b'{\"msg_type\": \"location_update\", \"time\": 1669965071.1712644, \"vehicle.id\": \"2a7be738-7210-11ed-99cb-21b625848828\", \"location\": \"143.9393231868744\"}'\n",
      "recieved reply\n",
      "data recieved b'{\"msg_type\": \"location_update\", \"time\": 1669965071.9575553, \"vehicle.id\": \"3a804444-7210-11ed-9554-851a8a9c2aa4\", \"location\": \"117.61728620529175\"}'\n",
      "recieved reply\n",
      "data recieved b'{\"msg_type\": \"location_update\", \"time\": 1669965072.1841536, \"vehicle.id\": \"2a7be738-7210-11ed-99cb-21b625848828\", \"location\": \"144.95222449302673\"}'\n",
      "recieved reply\n",
      "data recieved b'{\"msg_type\": \"location_update\", \"time\": 1669965072.9655974, \"vehicle.id\": \"3a804444-7210-11ed-9554-851a8a9c2aa4\", \"location\": \"118.62531280517578\"}'\n",
      "recieved reply\n",
      "data recieved b'{\"msg_type\": \"location_update\", \"time\": 1669965073.2165241, \"vehicle.id\": \"2a7be738-7210-11ed-99cb-21b625848828\", \"location\": \"145.98459839820862\"}'\n",
      "recieved reply\n",
      "data recieved b'{\"msg_type\": \"location_update\", \"time\": 1669965073.9695003, \"vehicle.id\": \"3a804444-7210-11ed-9554-851a8a9c2aa4\", \"location\": \"119.62923264503479\"}'\n",
      "recieved reply\n",
      "data recieved b'{\"msg_type\": \"location_update\", \"time\": 1669965074.2354443, \"vehicle.id\": \"2a7be738-7210-11ed-99cb-21b625848828\", \"location\": \"147.00352358818054\"}'\n",
      "recieved reply\n",
      "data recieved b'{\"msg_type\": \"location_update\", \"time\": 1669965074.9872012, \"vehicle.id\": \"3a804444-7210-11ed-9554-851a8a9c2aa4\", \"location\": \"120.64691853523254\"}'\n",
      "recieved reply\n",
      "data recieved b'{\"msg_type\": \"location_update\", \"time\": 1669965075.2484787, \"vehicle.id\": \"2a7be738-7210-11ed-99cb-21b625848828\", \"location\": \"148.01252579689026\"}'\n",
      "recieved reply\n",
      "data recieved b'{\"msg_type\": \"location_update\", \"time\": 1669965075.9914742, \"vehicle.id\": \"3a804444-7210-11ed-9554-851a8a9c2aa4\", \"location\": \"121.65120148658752\"}'\n",
      "recieved reply\n",
      "data recieved b'{\"msg_type\": \"location_update\", \"time\": 1669965076.2702036, \"vehicle.id\": \"2a7be738-7210-11ed-99cb-21b625848828\", \"location\": \"149.0382854938507\"}'\n",
      "recieved reply\n",
      "data recieved b'{\"msg_type\": \"location_update\", \"time\": 1669965076.9996147, \"vehicle.id\": \"3a804444-7210-11ed-9554-851a8a9c2aa4\", \"location\": \"122.65934181213379\"}'\n",
      "recieved reply\n",
      "data recieved b'{\"msg_type\": \"location_update\", \"time\": 1669965077.272245, \"vehicle.id\": \"2a7be738-7210-11ed-99cb-21b625848828\", \"location\": \"150.04032564163208\"}'\n",
      "recieved reply\n",
      "data recieved b'{\"msg_type\": \"location_update\", \"time\": 1669965078.007032, \"vehicle.id\": \"3a804444-7210-11ed-9554-851a8a9c2aa4\", \"location\": \"123.66673612594604\"}'\n",
      "recieved reply\n",
      "data recieved b'{\"msg_type\": \"location_update\", \"time\": 1669965078.281209, \"vehicle.id\": \"2a7be738-7210-11ed-99cb-21b625848828\", \"location\": \"151.0492823123932\"}'\n",
      "recieved reply\n",
      "data recieved b'{\"msg_type\": \"location_update\", \"time\": 1669965079.0262334, \"vehicle.id\": \"3a804444-7210-11ed-9554-851a8a9c2aa4\", \"location\": \"124.6859564781189\"}'\n",
      "recieved reply\n",
      "data recieved b'{\"msg_type\": \"location_update\", \"time\": 1669965079.293904, \"vehicle.id\": \"2a7be738-7210-11ed-99cb-21b625848828\", \"location\": \"152.06198525428772\"}'\n",
      "recieved reply\n",
      "data recieved b'{\"msg_type\": \"location_update\", \"time\": 1669965080.0628252, \"vehicle.id\": \"3a804444-7210-11ed-9554-851a8a9c2aa4\", \"location\": \"125.7225570678711\"}'\n",
      "recieved reply\n",
      "data recieved b'{\"msg_type\": \"location_update\", \"time\": 1669965080.303, \"vehicle.id\": \"2a7be738-7210-11ed-99cb-21b625848828\", \"location\": \"153.07108402252197\"}'\n",
      "recieved reply\n",
      "data recieved b'{\"msg_type\": \"location_update\", \"time\": 1669965081.076055, \"vehicle.id\": \"3a804444-7210-11ed-9554-851a8a9c2aa4\", \"location\": \"126.73576354980469\"}'\n",
      "recieved reply\n",
      "data recieved b'{\"msg_type\": \"location_update\", \"time\": 1669965081.3068295, \"vehicle.id\": \"2a7be738-7210-11ed-99cb-21b625848828\", \"location\": \"154.07489442825317\"}'\n",
      "recieved reply\n",
      "data recieved b'{\"msg_type\": \"location_update\", \"time\": 1669965082.1315417, \"vehicle.id\": \"3a804444-7210-11ed-9554-851a8a9c2aa4\", \"location\": \"127.79125261306763\"}'\n",
      "recieved reply\n",
      "data recieved b'{\"msg_type\": \"location_update\", \"time\": 1669965082.3230474, \"vehicle.id\": \"2a7be738-7210-11ed-99cb-21b625848828\", \"location\": \"155.0911238193512\"}'\n",
      "recieved reply\n",
      "data recieved b'{\"msg_type\": \"location_update\", \"time\": 1669965083.1385598, \"vehicle.id\": \"3a804444-7210-11ed-9554-851a8a9c2aa4\", \"location\": \"128.79823970794678\"}'\n",
      "recieved reply\n",
      "data recieved b'{\"msg_type\": \"location_update\", \"time\": 1669965083.3283994, \"vehicle.id\": \"2a7be738-7210-11ed-99cb-21b625848828\", \"location\": \"156.09646368026733\"}'\n",
      "recieved reply\n",
      "data recieved b'{\"msg_type\": \"location_update\", \"time\": 1669965084.156301, \"vehicle.id\": \"3a804444-7210-11ed-9554-851a8a9c2aa4\", \"location\": \"129.8160207271576\"}'\n"
     ]
    }
   ],
   "source": [
    "while True:\n",
    "    vehicle.broadcast_location()\n",
    "    data = vehicle.recieve()\n",
    "\n",
    "    if data:\n",
    "        print(\"data recieved %s\" %data)\n",
    "    time.sleep(1)"
   ]
  },
  {
   "cell_type": "code",
   "execution_count": null,
   "metadata": {},
   "outputs": [],
   "source": []
  },
  {
   "cell_type": "code",
   "execution_count": null,
   "metadata": {},
   "outputs": [],
   "source": []
  },
  {
   "cell_type": "code",
   "execution_count": null,
   "metadata": {},
   "outputs": [],
   "source": []
  },
  {
   "cell_type": "code",
   "execution_count": null,
   "id": "f1d351e5",
   "metadata": {},
   "outputs": [],
   "source": []
  },
  {
   "cell_type": "code",
   "execution_count": null,
   "id": "db95a2eb",
   "metadata": {},
   "outputs": [],
   "source": []
  },
  {
   "cell_type": "code",
   "execution_count": 9,
   "id": "a44a6b19",
   "metadata": {},
   "outputs": [],
   "source": [
    "MESSAGE = b\"Hello, World!\"\n",
    "sock = socket.socket(socket.AF_INET, socket.SOCK_DGRAM) # UDP\n",
    "sock.setsockopt(socket.SOL_SOCKET, socket.SO_BROADCAST, 1)"
   ]
  },
  {
   "cell_type": "code",
   "execution_count": 10,
   "id": "e7625ecb",
   "metadata": {},
   "outputs": [
    {
     "data": {
      "text/plain": [
       "13"
      ]
     },
     "execution_count": 10,
     "metadata": {},
     "output_type": "execute_result"
    }
   ],
   "source": [
    "sock.sendto(MESSAGE, (LAN_IP, PORT))"
   ]
  },
  {
   "cell_type": "code",
   "execution_count": 21,
   "id": "55d98325",
   "metadata": {},
   "outputs": [
    {
     "name": "stdout",
     "output_type": "stream",
     "text": [
      "recieved msg b'Hello, World!'\n",
      "recieved msg b'Hello, World!'\n",
      "recieved msg b'Hello, World!'\n",
      "recieved msg b'Hello, World!'\n",
      "recieved msg b'Hello, World! from tm1'\n"
     ]
    }
   ],
   "source": [
    "sock.bind((LAN_IP, PORT))\n",
    "while True:\n",
    "    data, addr = sock.recvfrom(1024)\n",
    "    print(\"recieved msg %s\" %data)"
   ]
  },
  {
   "cell_type": "code",
   "execution_count": 3,
   "id": "fed81445",
   "metadata": {},
   "outputs": [],
   "source": [
    "vehicle = Vehicle(LAN_IP=LAN_IP)"
   ]
  },
  {
   "cell_type": "code",
   "execution_count": 4,
   "id": "15bb2071",
   "metadata": {},
   "outputs": [
    {
     "name": "stdout",
     "output_type": "stream",
     "text": [
      "[Errno 32] Broken pipe\n"
     ]
    },
    {
     "data": {
      "text/plain": [
       "'location sent'"
      ]
     },
     "execution_count": 4,
     "metadata": {},
     "output_type": "execute_result"
    }
   ],
   "source": [
    "\n",
    "vehicle.broadcast_location()"
   ]
  },
  {
   "cell_type": "code",
   "execution_count": null,
   "id": "9153cf39",
   "metadata": {},
   "outputs": [],
   "source": [
    "if __name__ == \"_main__\":\n",
    "    vehicle = Vehicle(LAN_IP= LAN_IP)\n",
    "    \n",
    "    while True:\n",
    "        vehicle.broadcast()\n",
    "\n",
    "        vehicle.recieve()\n",
    "        if vehicle.recieve_data:\n",
    "            #parse data\n",
    "            \n",
    "            #-------------------if else event/recieve statements-----------------\n",
    "            #if is broadcast_location: \n",
    "            #     if close: update proximity table\n",
    "\n",
    "            #else is event:\n",
    "                #if parse for ID: send ack\n",
    "        \n",
    "        #Initiate emergency message\n",
    "        #if randint(0,1000) > 500:\n",
    "        \n",
    "            break\n",
    "        \n"
   ]
  },
  {
   "cell_type": "code",
   "execution_count": 40,
   "id": "2a84f13d",
   "metadata": {},
   "outputs": [],
   "source": [
    "vehicle = Vehicle()"
   ]
  },
  {
   "cell_type": "code",
   "execution_count": 41,
   "id": "f07ea389",
   "metadata": {},
   "outputs": [
    {
     "data": {
      "text/plain": [
       "[]"
      ]
     },
     "execution_count": 41,
     "metadata": {},
     "output_type": "execute_result"
    }
   ],
   "source": [
    "vehicle.proximity_table"
   ]
  },
  {
   "cell_type": "code",
   "execution_count": 42,
   "id": "bdd7a29c",
   "metadata": {},
   "outputs": [],
   "source": [
    "tmp = vehicle.proximity_table.copy()"
   ]
  },
  {
   "cell_type": "code",
   "execution_count": 66,
   "id": "43dcc513",
   "metadata": {},
   "outputs": [],
   "source": [
    "tmp.append(\"test\")"
   ]
  },
  {
   "cell_type": "code",
   "execution_count": 67,
   "id": "c74fb48c",
   "metadata": {},
   "outputs": [
    {
     "data": {
      "text/plain": [
       "['test1', 'test']"
      ]
     },
     "execution_count": 67,
     "metadata": {},
     "output_type": "execute_result"
    }
   ],
   "source": [
    "tmp"
   ]
  },
  {
   "cell_type": "code",
   "execution_count": 45,
   "id": "e0713acc",
   "metadata": {},
   "outputs": [
    {
     "data": {
      "text/plain": [
       "[]"
      ]
     },
     "execution_count": 45,
     "metadata": {},
     "output_type": "execute_result"
    }
   ],
   "source": [
    "vehicle.proximity_table\n"
   ]
  },
  {
   "cell_type": "code",
   "execution_count": 65,
   "id": "15ee0b6f",
   "metadata": {},
   "outputs": [
    {
     "ename": "ValueError",
     "evalue": "list.remove(x): x not in list",
     "output_type": "error",
     "traceback": [
      "\u001b[0;31m---------------------------------------------------------------------------\u001b[0m",
      "\u001b[0;31mValueError\u001b[0m                                Traceback (most recent call last)",
      "Cell \u001b[0;32mIn [65], line 1\u001b[0m\n\u001b[0;32m----> 1\u001b[0m tmp\u001b[39m.\u001b[39;49mremove(\u001b[39m\"\u001b[39;49m\u001b[39mtest\u001b[39;49m\u001b[39m\"\u001b[39;49m)\n",
      "\u001b[0;31mValueError\u001b[0m: list.remove(x): x not in list"
     ]
    }
   ],
   "source": [
    "tmp.remove(\"test\")"
   ]
  },
  {
   "cell_type": "code",
   "execution_count": 68,
   "id": "77815df2",
   "metadata": {},
   "outputs": [
    {
     "data": {
      "text/plain": [
       "True"
      ]
     },
     "execution_count": 68,
     "metadata": {},
     "output_type": "execute_result"
    }
   ],
   "source": [
    "\"test\" in tmp"
   ]
  },
  {
   "cell_type": "code",
   "execution_count": 77,
   "id": "40a8f06e",
   "metadata": {},
   "outputs": [
    {
     "data": {
      "text/plain": [
       "'{\"tst\": \"d1fd6908-7208-11ed-8700-a7057b74caa5\"}'"
      ]
     },
     "execution_count": 77,
     "metadata": {},
     "output_type": "execute_result"
    }
   ],
   "source": [
    "json.dumps({\"tst\": str(uuid.uuid1())})"
   ]
  },
  {
   "cell_type": "code",
   "execution_count": null,
   "id": "a2542b98",
   "metadata": {},
   "outputs": [],
   "source": []
  }
 ],
 "metadata": {
  "kernelspec": {
   "display_name": "Python 3.10.4 64-bit",
   "language": "python",
   "name": "python3"
  },
  "language_info": {
   "codemirror_mode": {
    "name": "ipython",
    "version": 3
   },
   "file_extension": ".py",
   "mimetype": "text/x-python",
   "name": "python",
   "nbconvert_exporter": "python",
   "pygments_lexer": "ipython3",
   "version": "3.10.6"
  },
  "vscode": {
   "interpreter": {
    "hash": "916dbcbb3f70747c44a77c7bcd40155683ae19c65e1c03b4aa3499c5328201f1"
   }
  }
 },
 "nbformat": 4,
 "nbformat_minor": 5
}
