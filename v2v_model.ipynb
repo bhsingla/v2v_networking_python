{
 "cells": [
  {
   "cell_type": "code",
   "execution_count": 1,
   "id": "dc37962f",
   "metadata": {},
   "outputs": [],
   "source": [
    "# echo-server.py\n",
    "# import selectors\n",
    "# from _thread import *\n",
    "# import threading\n",
    "import socket\n",
    "import time\n",
    "from random import randint\n",
    "import json \n",
    "import uuid\n",
    "import os\n",
    "\n",
    "'''\n",
    "Program variables\n",
    "'''\n",
    "LAN_IP = \"192.168.1.255\"  # Standard loopback interface address (localhost)\n",
    "PORT = 9999  # Port to listen on (non-privileged ports are > 1023)\n",
    "EVENT_TIMEOUT = 5000 #ms #time before an emergency event times out regardless of acks\n",
    "ACK_TIMEOUT = 200 #ms time before emergency message is broadcasted to un-acked vehicles\n",
    "PROXIMITY_PURGE_TIME = 5000 #ms\n",
    "PROXIMITY_THRESHOLD = 10 # 1 dimensional coordinate, meters\n",
    "\n",
    "#unused function. May be used for threading/user io\n",
    "def thread(Client, Pserver):\n",
    "    while True:\n",
    "        # data received from client\n",
    "        data = Pserver.recv(1024)\n",
    "        if data:\n",
    "            Client.send(data)\n",
    "        elif not data:\n",
    "            print_lock.release()\n",
    "            break\n",
    "\n",
    "'''\n",
    "Vehicle class\n",
    "Does the buld of the heavy lifting for\n",
    "variable storage, send/recieve routines, variable updates and maintanance\n",
    "Takes in a defined IP and port number if none-default values are desired\n",
    "'''\n",
    "class Vehicle:\n",
    "    def __init__(self, LAN_IP=\"127.0.0.1\", PORT=9999):\n",
    "        self.location = 0 # 1 dimensional x coordinate\n",
    "        self.last_update = time.time()\n",
    "        self.msg = \"\"\n",
    "        self.buffer = \"\"\n",
    "        self.proximity_table = {}\n",
    "        self.velocity = 1 # m/s\n",
    "        self.LAN_IP = LAN_IP\n",
    "        self.PORT = PORT\n",
    "        self.id = str(uuid.uuid1())\n",
    "        #self.broadcast = \n",
    "        try:\n",
    "            self.rx = socket.socket(socket.AF_INET, socket.SOCK_DGRAM)\n",
    "            self.tx = socket.socket(socket.AF_INET, socket.SOCK_DGRAM)\n",
    "            self.tx.setsockopt(socket.SOL_SOCKET, socket.SO_BROADCAST, 1) #set broadcast\n",
    "            self.rx.bind((LAN_IP, PORT))\n",
    "            self.rx.settimeout(1) #set timeout on socket to 1s. Val to be lowered for better latency\n",
    "        except Exception as e:\n",
    "            print(e) \n",
    "    \n",
    "    def create_transmit_socket(self):\n",
    "        init_socket = None\n",
    "        try:\n",
    "            init_socket = socket.socket(socket.AF_INET, socket.SOCK_DGRAM)\n",
    "            init_socket.setsockopt(socket.SOL_SOCKET, socket.SO_BROADCAST, 1) #set broadcast\n",
    "        except Exception as e:\n",
    "            print(e) \n",
    "        return init_socket\n",
    "    \n",
    "    \n",
    "    def update_location(self):\n",
    "        current_time = time.time()\n",
    "        self.location = self.location + self.velocity * (current_time - self.last_update)\n",
    "        self.last_update = current_time\n",
    "        return self.location\n",
    "\n",
    "    \n",
    "    def broadcast_location(self):\n",
    "        try:\n",
    "            self.update_location()\n",
    "            broadcast_loc_msg = {\"msg_type\": \"location_update\", \"time\": time.time(), \"vehicle_id\": self.id, \n",
    "            \"location\": str(self.location)}\n",
    "            self.tx.sendto(json.dumps(broadcast_loc_msg).encode(), (LAN_IP, PORT))\n",
    "        except Exception as e:\n",
    "            print(e) \n",
    "        return \"location sent\"\n",
    "        \n",
    "\n",
    "    def send_event_msg(self, msg):\n",
    "        try:\n",
    "            self.tx.sendto(msg, (LAN_IP, PORT))\n",
    "            print(\"request sent\")\n",
    "        except Exception as e:\n",
    "            print(e)\n",
    "        return \"sent event msg\"\n",
    "    \n",
    "    \n",
    "    def recieve(self):\n",
    "        try:\n",
    "            self.recieve_data = self.rx.recv(1024)\n",
    "            if self.recieve_data:\n",
    "                print(\"recieved reply\")\n",
    "                return self.recieve_data\n",
    "            elif not self.recieve_data:\n",
    "                return ''\n",
    "        except Exception as e:\n",
    "            print(e)\n",
    "            return ''\n",
    "    \n",
    "    \n",
    "    def update_proximity_table(self, parsed_dic):\n",
    "        self.update_location()\n",
    "        proximity = abs(float(parsed_dic[\"location\"]) - float(self.location))\n",
    "        vehicle_id = parsed_dic[\"vehicle_id\"]\n",
    "        \n",
    "        if vehicle_id != self.id and proximity < PROXIMITY_THRESHOLD:\n",
    "            self.proximity_table[vehicle_id] = time.time()\n",
    "            print(\"updating  proximity table\")\n",
    "    \n",
    "    \n",
    "    def clean_proximity_table(self):\n",
    "        for key, val in self.proximity_table.items():\n",
    "            current_time = time.time()\n",
    "            if(val - current_time) > PROXIMITY_PURGE_TIME:\n",
    "                print(\"Deleting table v instance\")\n",
    "                try:\n",
    "                    del self.proximity_table[key]\n",
    "                except Exception as e:\n",
    "                    print(e)\n",
    "    \n",
    "    \n",
    "    def parse(self, data_dict):\n",
    "        if data_dict[\"msg_type\"] == \"location_update\":\n",
    "            self.update_proximity_table(data_dict)\n",
    "        elif data_dict[\"msg_type\"] == \"crash\":\n",
    "            if self.id in data_dict[\"proximity_table\"]:\n",
    "                self.send_ack()\n",
    "    \n",
    "    \n",
    "    def send_ack(self):\n",
    "        ack = json.dumps({\"msg_type\": \"ack\", \"vehicle_id\": self.id}).encode()\n",
    "        self.tx.sendto(ack, (LAN_IP, PORT))\n",
    "\n",
    "\n",
    "#------------------------------------------------------------------------------------- end of Vehicle class\n",
    "\n",
    "\n",
    "\n",
    "def emergency_event(vehicle):\n",
    "    # initial variables for vehicles we want acks from \n",
    "    # and timeout value\n",
    "    ack_table = vehicle.proximity_table.copy()\n",
    "    current_time = time.time()\n",
    "    \n",
    "    #Keep sending emergency requests until we have all of the acks we want or we hit a timeout\n",
    "    while ack_table:\n",
    "        emergency_msg = {\"msg_type\": \"crash\", \"time\": current_time, \"vehicle.id\": vehicle.id, \n",
    "            \"proximity_table\": ack_table}\n",
    "        vehicle.send_event_msg(json.dumps(emergency_msg).encode())\n",
    "        \n",
    "        #Listen for messages and remove ack ids from table as they come in\n",
    "        while (time.time() - current_time) < ACK_TIMEOUT:\n",
    "            data = vehicle.recieve()\n",
    "            if data:\n",
    "                data_dic = json.loads(data.decode())\n",
    "                if data_dic[\"msg_type\"] == \"ack\":\n",
    "                    print(\"recieved data in event fxn\")\n",
    "                    ack_id = data_dic[\"vehicle_id\"]\n",
    "                    if ack_id in ack_table:\n",
    "                        try:\n",
    "                            del ack_table[ack_id]\n",
    "                            print(\"ack recieved and removed from proximity table\")\n",
    "                        except Exception as e:\n",
    "                            print(\"failed to remove id from event proximity table\")\n",
    "                            print(e)\n",
    "            #check for message timeout and quite if it's exceeeded\n",
    "            if (time.time() - current_time) > EVENT_TIMEOUT:\n",
    "                return \"Failed to recieve acks from vehicles\"\n",
    "        time.sleep(.2) #back off for 10ms to let acks come in etc\n",
    "    return \"recieved acks for all vehicles\""
   ]
  },
  {
   "cell_type": "code",
   "execution_count": 2,
   "id": "9a9e0c8b",
   "metadata": {},
   "outputs": [
    {
     "name": "stdout",
     "output_type": "stream",
     "text": [
      "recieved reply\n",
      "emergency event triggered\n",
      "recieved reply\n",
      "updating  proximity table\n",
      "recieved reply\n",
      "recieved reply\n",
      "updating  proximity table\n",
      "recieved reply\n",
      "recieved reply\n",
      "updating  proximity table\n",
      "recieved reply\n",
      "recieved reply\n",
      "emergency event triggered\n",
      "request sent\n",
      "recieved reply\n",
      "recieved reply\n",
      "recieved reply\n",
      "recieved reply\n",
      "recieved data in event fxn\n",
      "recieved reply\n",
      "recieved reply\n",
      "timed out\n",
      "timed out\n",
      "timed out\n",
      "timed out\n",
      "timed out\n",
      "timed out\n",
      "timed out\n",
      "timed out\n",
      "timed out\n",
      "timed out\n",
      "timed out\n",
      "timed out\n",
      "timed out\n",
      "timed out\n",
      "timed out\n",
      "timed out\n",
      "timed out\n",
      "timed out\n",
      "timed out\n",
      "timed out\n"
     ]
    }
   ],
   "source": [
    "vehicle = Vehicle(LAN_IP=LAN_IP)\n",
    "n = 1000\n",
    "s_per_crash = 30 #loops take >~1second, if a crash is desired at E[p] seconds, then seconds = n*p loops\n",
    "#in other words, 1 / x loops should be positive\n",
    "p = s_per_crash * 10\n",
    "while True:\n",
    "    vehicle.broadcast_location()\n",
    "    vehicle.clean_proximity_table()\n",
    "    data = vehicle.recieve()\n",
    "    \n",
    "    if data:\n",
    "        data_dict = json.loads(data.decode())\n",
    "        msg_type = vehicle.parse(data_dict)\n",
    "    if randint(0, n) < p: #should run every s_per_crash loops\n",
    "        print(\"emergency event triggered\")\n",
    "        emergency_event(vehicle)\n",
    "        \n",
    "    time.sleep(1)"
   ]
  },
  {
   "cell_type": "code",
   "execution_count": 81,
   "id": "af7d8878",
   "metadata": {},
   "outputs": [
    {
     "data": {
      "text/plain": [
       "424"
      ]
     },
     "execution_count": 81,
     "metadata": {},
     "output_type": "execute_result"
    }
   ],
   "source": [
    "randint(0, 10000)"
   ]
  },
  {
   "cell_type": "code",
   "execution_count": null,
   "id": "f1d351e5",
   "metadata": {},
   "outputs": [],
   "source": []
  },
  {
   "cell_type": "code",
   "execution_count": null,
   "id": "db95a2eb",
   "metadata": {},
   "outputs": [],
   "source": []
  },
  {
   "cell_type": "code",
   "execution_count": 4,
   "id": "a44a6b19",
   "metadata": {},
   "outputs": [],
   "source": [
    "MESSAGE = b\"Hello, World!\"\n",
    "sock = socket.socket(socket.AF_INET, socket.SOCK_DGRAM) # UDP\n",
    "sock.setsockopt(socket.SOL_SOCKET, socket.SO_BROADCAST, 1)"
   ]
  },
  {
   "cell_type": "code",
   "execution_count": 6,
   "id": "e7625ecb",
   "metadata": {},
   "outputs": [
    {
     "data": {
      "text/plain": [
       "13"
      ]
     },
     "execution_count": 6,
     "metadata": {},
     "output_type": "execute_result"
    }
   ],
   "source": [
    "sock.sendto(MESSAGE, (LAN_IP, PORT))"
   ]
  },
  {
   "cell_type": "code",
   "execution_count": 21,
   "id": "55d98325",
   "metadata": {},
   "outputs": [
    {
     "name": "stdout",
     "output_type": "stream",
     "text": [
      "recieved msg b'Hello, World!'\n",
      "recieved msg b'Hello, World!'\n",
      "recieved msg b'Hello, World!'\n",
      "recieved msg b'Hello, World!'\n",
      "recieved msg b'Hello, World! from tm1'\n"
     ]
    }
   ],
   "source": [
    "sock.bind((LAN_IP, PORT))\n",
    "while True:\n",
    "    data, addr = sock.recvfrom(1024)\n",
    "    print(\"recieved msg %s\" %data)"
   ]
  },
  {
   "cell_type": "code",
   "execution_count": 8,
   "id": "fed81445",
   "metadata": {},
   "outputs": [
    {
     "ename": "NameError",
     "evalue": "name 'Vehicle' is not defined",
     "output_type": "error",
     "traceback": [
      "\u001b[0;31m---------------------------------------------------------------------------\u001b[0m",
      "\u001b[0;31mNameError\u001b[0m                                 Traceback (most recent call last)",
      "Cell \u001b[0;32mIn [8], line 1\u001b[0m\n\u001b[0;32m----> 1\u001b[0m vehicle \u001b[39m=\u001b[39m Vehicle(LAN_IP\u001b[39m=\u001b[39mLAN_IP)\n",
      "\u001b[0;31mNameError\u001b[0m: name 'Vehicle' is not defined"
     ]
    }
   ],
   "source": [
    "vehicle = Vehicle(LAN_IP=LAN_IP)"
   ]
  },
  {
   "cell_type": "code",
   "execution_count": 9,
   "id": "15bb2071",
   "metadata": {},
   "outputs": [
    {
     "ename": "NameError",
     "evalue": "name 'vehicle' is not defined",
     "output_type": "error",
     "traceback": [
      "\u001b[0;31m---------------------------------------------------------------------------\u001b[0m",
      "\u001b[0;31mNameError\u001b[0m                                 Traceback (most recent call last)",
      "Cell \u001b[0;32mIn [9], line 1\u001b[0m\n\u001b[0;32m----> 1\u001b[0m vehicle\u001b[39m.\u001b[39mbroadcast_location()\n",
      "\u001b[0;31mNameError\u001b[0m: name 'vehicle' is not defined"
     ]
    }
   ],
   "source": [
    "vehicle.broadcast_location()"
   ]
  },
  {
   "cell_type": "code",
   "execution_count": null,
   "id": "9153cf39",
   "metadata": {},
   "outputs": [],
   "source": [
    "if __name__ == \"_main__\":\n",
    "    vehicle = Vehicle(LAN_IP= LAN_IP)\n",
    "    \n",
    "    while True:\n",
    "        vehicle.broadcast()\n",
    "\n",
    "        vehicle.recieve()\n",
    "        if vehicle.recieve_data:\n",
    "            #parse data\n",
    "\n",
    "            #else is event:\n",
    "                #if parse for ID: send ack\n",
    "        \n",
    "        #Initiate emergency message\n",
    "        #if randint(0,1000) > 500:\n",
    "        \n",
    "            break"
   ]
  },
  {
   "cell_type": "code",
   "execution_count": null,
   "id": "2a84f13d",
   "metadata": {},
   "outputs": [],
   "source": []
  },
  {
   "cell_type": "code",
   "execution_count": 45,
   "id": "f07ea389",
   "metadata": {},
   "outputs": [
    {
     "name": "stdout",
     "output_type": "stream",
     "text": [
      "updating  proximity table\n"
     ]
    }
   ],
   "source": [
    "msg = {\"msg_type\": \"location_update\", \"time\": time.time(), \"vehicle_id\": \"12345\", \n",
    "            \"location\": 70}\n",
    "vehicle.update_proximity_table(msg)"
   ]
  },
  {
   "cell_type": "code",
   "execution_count": 55,
   "id": "bdd7a29c",
   "metadata": {},
   "outputs": [],
   "source": [
    "p_copy = vehicle.proximity_table.copy()"
   ]
  },
  {
   "cell_type": "code",
   "execution_count": 49,
   "id": "43dcc513",
   "metadata": {},
   "outputs": [
    {
     "data": {
      "text/plain": [
       "71.82640838623047"
      ]
     },
     "execution_count": 49,
     "metadata": {},
     "output_type": "execute_result"
    }
   ],
   "source": [
    "vehicle.location"
   ]
  },
  {
   "cell_type": "code",
   "execution_count": 62,
   "id": "c74fb48c",
   "metadata": {
    "scrolled": true
   },
   "outputs": [
    {
     "data": {
      "text/plain": [
       "{'12345': 1670148297.1142504}"
      ]
     },
     "execution_count": 62,
     "metadata": {},
     "output_type": "execute_result"
    }
   ],
   "source": [
    "vehicle.proximity_table"
   ]
  },
  {
   "cell_type": "code",
   "execution_count": 58,
   "id": "e0713acc",
   "metadata": {},
   "outputs": [],
   "source": [
    "p_copy[\"test00\"] = 0"
   ]
  },
  {
   "cell_type": "code",
   "execution_count": 61,
   "id": "15ee0b6f",
   "metadata": {},
   "outputs": [
    {
     "data": {
      "text/plain": [
       "{'12345': 1670148297.1142504, 'test00': 0}"
      ]
     },
     "execution_count": 61,
     "metadata": {},
     "output_type": "execute_result"
    }
   ],
   "source": [
    "p_copy"
   ]
  },
  {
   "cell_type": "code",
   "execution_count": null,
   "id": "77815df2",
   "metadata": {},
   "outputs": [],
   "source": []
  },
  {
   "cell_type": "code",
   "execution_count": 77,
   "id": "40a8f06e",
   "metadata": {},
   "outputs": [
    {
     "data": {
      "text/plain": [
       "'{\"tst\": \"d1fd6908-7208-11ed-8700-a7057b74caa5\"}'"
      ]
     },
     "execution_count": 77,
     "metadata": {},
     "output_type": "execute_result"
    }
   ],
   "source": [
    "json.dumps({\"tst\": str(uuid.uuid1())})"
   ]
  },
  {
   "cell_type": "code",
   "execution_count": null,
   "id": "a2542b98",
   "metadata": {},
   "outputs": [],
   "source": []
  }
 ],
 "metadata": {
  "kernelspec": {
   "display_name": "Python 3 (ipykernel)",
   "language": "python",
   "name": "python3"
  },
  "language_info": {
   "codemirror_mode": {
    "name": "ipython",
    "version": 3
   },
   "file_extension": ".py",
   "mimetype": "text/x-python",
   "name": "python",
   "nbconvert_exporter": "python",
   "pygments_lexer": "ipython3",
   "version": "3.10.4"
  },
  "vscode": {
   "interpreter": {
    "hash": "916dbcbb3f70747c44a77c7bcd40155683ae19c65e1c03b4aa3499c5328201f1"
   }
  }
 },
 "nbformat": 4,
 "nbformat_minor": 5
}
