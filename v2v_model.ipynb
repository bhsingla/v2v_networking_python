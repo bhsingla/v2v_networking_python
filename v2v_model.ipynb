{
 "cells": [
  {
   "cell_type": "code",
   "execution_count": 3,
   "id": "d8fdd9a2",
   "metadata": {},
   "outputs": [],
   "source": [
    "# echo-server.py\n",
    "import selectors\n",
    "import socket\n",
    "from _thread import *\n",
    "import threading\n",
    "import time\n",
    "from random import randint\n",
    "import json \n",
    "\n",
    "LAN_IP = \"192.168.1.255\"  # Standard loopback interface address (localhost)\n",
    "PORT = 9999  # Port to listen on (non-privileged ports are > 1023)"
   ]
  },
  {
   "cell_type": "code",
   "execution_count": 33,
   "id": "dc37962f",
   "metadata": {},
   "outputs": [],
   "source": [
    "def parse_data(data):\n",
    "    msg_type = None\n",
    "    event = None\n",
    "    sender_id = None\n",
    "    relay = 0\n",
    "    \n",
    "    return msg_type\n",
    "\n",
    "\n",
    "def thread(Client, Pserver):\n",
    "    while True:\n",
    "        # data received from client\n",
    "        data = Pserver.recv(1024)\n",
    "        if data:\n",
    "            Client.send(data)\n",
    "        elif not data:\n",
    "            print_lock.release()\n",
    "            break\n",
    "\n",
    "\n",
    "class Vehicle:\n",
    "    def __init__(self, LAN_IP=\"127.0.0.1\", PORT=9999):\n",
    "        self.location = 0 # 1 dimensional x coordinate\n",
    "        self.last_update = time.time()\n",
    "        self.msg = \"\"\n",
    "        self.buffer = \"\"\n",
    "        self.proximity_table = []\n",
    "        self.velocity = 1 # m/s\n",
    "        self.LAN_IP = LAN_IP\n",
    "        self.PORT = PORT\n",
    "        self.id = randint(0, 1000)\n",
    "        \n",
    "        #self.broadcast = \n",
    "        try:\n",
    "            self.rx = socket.socket(socket.AF_INET, socket.SOCK_STREAM)\n",
    "            self.tx = socket.socket(socket.AF_INET, socket.SOCK_STREAM)\n",
    "            self.rx.bind((LAN_IP, PORT))\n",
    "        except Exception as e:\n",
    "            print(e) \n",
    "    \n",
    "\n",
    "        \n",
    "    def update_location(self):\n",
    "        current_time = time.time()\n",
    "        self.location = self.location + self.velocity * (current_time - self.last_update)\n",
    "        self.last_update = current_time\n",
    "        return self.location\n",
    "\n",
    "\n",
    "    def broadcast_location(self):\n",
    "        try:\n",
    "            self.update_location()\n",
    "\n",
    "            broadcast_loc_msg = {\"msg_type\": \"location_update\", \"time\": time.time(), \"vehicle.id\": self.id, \n",
    "            \"location\": str(self.location)}\n",
    "\n",
    "            self.tx.sendall(json.dumps(broadcast_loc_msg).encode())\n",
    "        except Exception as e:\n",
    "            print(e) \n",
    "        return 1\n",
    "        \n",
    "\n",
    "    def send_event_msg(self, msg):\n",
    "        try:\n",
    "            self.tx.sendall(msg)\n",
    "            print(\"request sent\")\n",
    "        except Exception as e:\n",
    "            print(e)\n",
    "        \n",
    "        # read acks as they come in for 2s and then \n",
    "        # resend broadcast notification w updated \n",
    "        \n",
    "        return 1\n",
    "    \n",
    "    \n",
    "    def recieve(self):\n",
    "        try:\n",
    "            self.recieve_data = self.rx.recv(4096)\n",
    "            if self.recieve_data:\n",
    "                print(\"recieved reply\")\n",
    "                return self.recieve_data\n",
    "            elif not self.recieve_data:\n",
    "                return None\n",
    "        except Exception as e:\n",
    "            print(e)\n",
    "\n",
    "\n",
    "\n",
    "def emergency_event(vehicle):\n",
    "    ack_table = vehicle.proximity_table.copy()\n",
    "    time = time.time()\n",
    "    while ack_table:\n",
    "        emergency_msg = {\"msg_type\": \"crash\", \"time\": time, \"vehicle.id\": vehicle.id, \n",
    "            \"proximity_table\": ack_table}\n",
    "        vehicle.send_event_msg(json.dumps(emergency_event).encode())\n",
    "\n",
    "        data = vehicle.recieve()\n",
    "\n",
    "        if data:\n",
    "\n",
    "\n",
    "    return True\n",
    "\n",
    "    \n",
    "    "
   ]
  },
  {
   "cell_type": "code",
   "execution_count": 19,
   "id": "a44a6b19",
   "metadata": {},
   "outputs": [],
   "source": [
    "MESSAGE = b\"Hello, World!\"\n",
    "sock = socket.socket(socket.AF_INET, socket.SOCK_DGRAM) # UDP\n",
    "sock.setsockopt(socket.SOL_SOCKET, socket.SO_BROADCAST, 1)"
   ]
  },
  {
   "cell_type": "code",
   "execution_count": 17,
   "id": "e7625ecb",
   "metadata": {},
   "outputs": [
    {
     "data": {
      "text/plain": [
       "13"
      ]
     },
     "execution_count": 17,
     "metadata": {},
     "output_type": "execute_result"
    }
   ],
   "source": [
    "sock.sendto(MESSAGE, (LAN_IP, PORT))"
   ]
  },
  {
   "cell_type": "code",
   "execution_count": 21,
   "id": "55d98325",
   "metadata": {},
   "outputs": [
    {
     "name": "stdout",
     "output_type": "stream",
     "text": [
      "recieved msg b'Hello, World!'\n",
      "recieved msg b'Hello, World!'\n",
      "recieved msg b'Hello, World!'\n",
      "recieved msg b'Hello, World!'\n",
      "recieved msg b'Hello, World! from tm1'\n"
     ]
    }
   ],
   "source": [
    "sock.bind((LAN_IP, PORT))\n",
    "while True:\n",
    "    data, addr = sock.recvfrom(1024)\n",
    "    print(\"recieved msg %s\" %data)"
   ]
  },
  {
   "cell_type": "code",
   "execution_count": 11,
   "id": "fed81445",
   "metadata": {},
   "outputs": [
    {
     "data": {
      "text/plain": [
       "True"
      ]
     },
     "execution_count": 11,
     "metadata": {},
     "output_type": "execute_result"
    }
   ],
   "source": [
    "randint(0,1000) > 500"
   ]
  },
  {
   "cell_type": "code",
   "execution_count": null,
   "id": "9153cf39",
   "metadata": {},
   "outputs": [],
   "source": [
    "if __name__ == \"_main__\":\n",
    "    vehicle = Vehicle(LAN_IP= LAN_IP)\n",
    "    \n",
    "    while True:\n",
    "        vehicle.broadcast()\n",
    "\n",
    "        vehicle.recieve()\n",
    "        if vehicle.recieve_data:\n",
    "            #parse data\n",
    "            \n",
    "            #-------------------if else event/recieve statements-----------------\n",
    "            #if is broadcast_location: \n",
    "            #     if close: update proximity table\n",
    "\n",
    "            #else is event:\n",
    "                #if parse for ID: send ack\n",
    "        \n",
    "        #Initiate emergency message\n",
    "        #if randint(0,1000) > 500:\n",
    "        \n",
    "            break\n",
    "        \n"
   ]
  },
  {
   "cell_type": "code",
   "execution_count": 40,
   "id": "2a84f13d",
   "metadata": {},
   "outputs": [],
   "source": [
    "vehicle = Vehicle()"
   ]
  },
  {
   "cell_type": "code",
   "execution_count": 41,
   "id": "f07ea389",
   "metadata": {},
   "outputs": [
    {
     "data": {
      "text/plain": [
       "[]"
      ]
     },
     "execution_count": 41,
     "metadata": {},
     "output_type": "execute_result"
    }
   ],
   "source": [
    "vehicle.proximity_table"
   ]
  },
  {
   "cell_type": "code",
   "execution_count": 42,
   "id": "bdd7a29c",
   "metadata": {},
   "outputs": [],
   "source": [
    "tmp = vehicle.proximity_table.copy()"
   ]
  },
  {
   "cell_type": "code",
   "execution_count": 66,
   "id": "43dcc513",
   "metadata": {},
   "outputs": [],
   "source": [
    "tmp.append(\"test\")"
   ]
  },
  {
   "cell_type": "code",
   "execution_count": 67,
   "id": "c74fb48c",
   "metadata": {},
   "outputs": [
    {
     "data": {
      "text/plain": [
       "['test1', 'test']"
      ]
     },
     "execution_count": 67,
     "metadata": {},
     "output_type": "execute_result"
    }
   ],
   "source": [
    "tmp"
   ]
  },
  {
   "cell_type": "code",
   "execution_count": 45,
   "id": "e0713acc",
   "metadata": {},
   "outputs": [
    {
     "data": {
      "text/plain": [
       "[]"
      ]
     },
     "execution_count": 45,
     "metadata": {},
     "output_type": "execute_result"
    }
   ],
   "source": [
    "vehicle.proximity_table\n"
   ]
  },
  {
   "cell_type": "code",
   "execution_count": 65,
   "id": "15ee0b6f",
   "metadata": {},
   "outputs": [
    {
     "ename": "ValueError",
     "evalue": "list.remove(x): x not in list",
     "output_type": "error",
     "traceback": [
      "\u001b[0;31m---------------------------------------------------------------------------\u001b[0m",
      "\u001b[0;31mValueError\u001b[0m                                Traceback (most recent call last)",
      "Cell \u001b[0;32mIn [65], line 1\u001b[0m\n\u001b[0;32m----> 1\u001b[0m tmp\u001b[39m.\u001b[39;49mremove(\u001b[39m\"\u001b[39;49m\u001b[39mtest\u001b[39;49m\u001b[39m\"\u001b[39;49m)\n",
      "\u001b[0;31mValueError\u001b[0m: list.remove(x): x not in list"
     ]
    }
   ],
   "source": [
    "tmp.remove(\"test\")"
   ]
  },
  {
   "cell_type": "code",
   "execution_count": 68,
   "id": "77815df2",
   "metadata": {},
   "outputs": [
    {
     "data": {
      "text/plain": [
       "True"
      ]
     },
     "execution_count": 68,
     "metadata": {},
     "output_type": "execute_result"
    }
   ],
   "source": [
    "\"test\" in tmp"
   ]
  },
  {
   "cell_type": "code",
   "execution_count": null,
   "id": "40a8f06e",
   "metadata": {},
   "outputs": [],
   "source": []
  }
 ],
 "metadata": {
  "kernelspec": {
   "display_name": "Python 3.10.4 64-bit",
   "language": "python",
   "name": "python3"
  },
  "language_info": {
   "codemirror_mode": {
    "name": "ipython",
    "version": 3
   },
   "file_extension": ".py",
   "mimetype": "text/x-python",
   "name": "python",
   "nbconvert_exporter": "python",
   "pygments_lexer": "ipython3",
   "version": "3.10.6"
  },
  "vscode": {
   "interpreter": {
    "hash": "916dbcbb3f70747c44a77c7bcd40155683ae19c65e1c03b4aa3499c5328201f1"
   }
  }
 },
 "nbformat": 4,
 "nbformat_minor": 5
}
